{
 "cells": [
  {
   "cell_type": "code",
   "execution_count": null,
   "metadata": {
    "vscode": {
     "languageId": "plaintext"
    }
   },
   "outputs": [],
   "source": [
    "import os\n",
    "cwd = os.getcwd()\n",
    "print(f'Current working directory: {cwd}')\n",
    "\n",
    "project_path = os.path.join(cwd, 'FrameFinderLE')\n",
    "print(f'Project directory: {project_path}')\n",
    "database_path = os.path.join(cwd, 'FrameFinderLE', 'database')\n",
    "print(f'Database directory {database_path}')"
   ]
  },
  {
   "cell_type": "markdown",
   "metadata": {},
   "source": [
    "## Install dependency"
   ]
  },
  {
   "cell_type": "code",
   "execution_count": null,
   "metadata": {
    "vscode": {
     "languageId": "plaintext"
    }
   },
   "outputs": [],
   "source": [
    "%cd {project_path}"
   ]
  },
  {
   "cell_type": "code",
   "execution_count": null,
   "metadata": {
    "vscode": {
     "languageId": "plaintext"
    }
   },
   "outputs": [],
   "source": [
    "!pip show python-multipart"
   ]
  },
  {
   "cell_type": "code",
   "execution_count": null,
   "metadata": {
    "vscode": {
     "languageId": "plaintext"
    }
   },
   "outputs": [],
   "source": [
    "#uncomment and run this line if running on Colab:\n",
    "#!pip -q install nest_asyncio pyngrok multiprocess\n",
    "#!pip -q install fastapi uvicorn python-multipart\n",
    "\n",
    "!pip -q install -r requirements.txt"
   ]
  },
  {
   "cell_type": "markdown",
   "metadata": {},
   "source": [
    "## Load database"
   ]
  },
  {
   "cell_type": "code",
   "execution_count": null,
   "metadata": {
    "vscode": {
     "languageId": "plaintext"
    }
   },
   "outputs": [],
   "source": [
    "import gdown\n",
    "\n",
    "#Load images\n",
    "#Load key frame folder (key_frame_folder_reduced.zip)\n",
    "!gdown 1-92UIqmQ5ODeZlSQ61cjFmUdLVZZ_HfV\n",
    "\n",
    "#Unzip key frame folder (key_frame_folder_reduced)\n",
    "!unzip -q key_frame_folder_reduced.zip -d static/images"
   ]
  },
  {
   "cell_type": "code",
   "execution_count": null,
   "metadata": {
    "vscode": {
     "languageId": "plaintext"
    }
   },
   "outputs": [],
   "source": [
    "%cd {database_path}"
   ]
  },
  {
   "cell_type": "code",
   "execution_count": null,
   "metadata": {
    "vscode": {
     "languageId": "plaintext"
    }
   },
   "outputs": [],
   "source": [
    "#Load FAISS\n",
    "#Load annotation (index_caption_hashtag_dict_v2.json)\n",
    "!gdown 1-CDUlIAIYAk5L87tXlYFosbUXQQANam8\n",
    "#Load database CLIP_v0 (merged_index_hnsw_baseline_v0.bin)\n",
    "!gdown 1EvNEWTNPe8Tk20-Tn0O6BwAgURLJTHZP\n",
    "#Load database CLIP_v2 (merged_index_hnsw_baseline_v2.bin)\n",
    "!gdown 1-85d-oCWU39o9d8Ie0c5093fKTp0IpwO\n",
    "\n",
    "#Load GRAPH\n",
    "#Graph database (graph_data_full.pkl)\n",
    "!gdown 1-AotePkVml3iQONPxCZeK-gDjQFI0Asb\n",
    "#List of hashtag embeddings (hashtag_embeddings.pkl, hashtag_embeddings.bin)\n",
    "!gdown 1ZRt1-qvJP2CJcWzGykWQVN9JLHBS5XFR\n",
    "!gdown 1tZyr1h8yDJO_CXuMn5ounEEdiFKD530d\n",
    "\n",
    "#Load encoded frames\n",
    "!gdown 1-KQx8lD7tHJH-RpbLE9gUBA8k_VV5fsI"
   ]
  },
  {
   "cell_type": "markdown",
   "metadata": {},
   "source": [
    "## App"
   ]
  },
  {
   "cell_type": "code",
   "execution_count": null,
   "metadata": {
    "vscode": {
     "languageId": "plaintext"
    }
   },
   "outputs": [],
   "source": [
    "%cd {project_path}"
   ]
  },
  {
   "cell_type": "code",
   "execution_count": null,
   "metadata": {
    "vscode": {
     "languageId": "plaintext"
    }
   },
   "outputs": [],
   "source": [
    "import os\n",
    "from fastapi import FastAPI\n",
    "from fastapi.staticfiles import StaticFiles\n",
    "from typing import Dict, Any\n",
    "from models.model_init import load_model\n",
    "from database.db_init import load_grafa_database, load_hashtag_embeddings, load_hashtag_embedding_bin\n",
    "from database.db_init import load_annotation, load_encoded_frames, faiss_database_processing\n",
    "\n",
    "#Creates a FastAPI instance\n",
    "app = FastAPI()\n",
    "# Initialize the model and its preprocessing function\n",
    "device, model = load_model()\n",
    "# Initialize the database\n",
    "G, sparse_matrix, node_mapping, reverse_node_mapping = load_grafa_database()\n",
    "hashtag_embeddings = load_hashtag_embeddings()\n",
    "hashtag_embedding_index = load_hashtag_embedding_bin()\n",
    "image_info_dict = load_annotation()\n",
    "encoded_frames = load_encoded_frames(device)\n",
    "clipv0_hnsw = faiss_database_processing('CLIP_v0')\n",
    "clipv2_hnsw = faiss_database_processing('CLIP_v2')\n",
    "\n",
    "# Initialize the shared database\n",
    "app.state.device = device\n",
    "app.state.model = model\n",
    "app.state.G = G\n",
    "app.state.sparse_matrix = sparse_matrix\n",
    "app.state.node_mapping = node_mapping\n",
    "app.state.reverse_node_mapping = reverse_node_mapping\n",
    "app.state.hashtag_embeddings = hashtag_embeddings\n",
    "app.state.hashtag_embedding_index = hashtag_embedding_index\n",
    "app.state.image_info_dict = image_info_dict\n",
    "app.state.encoded_frames = encoded_frames\n",
    "app.state.clipv0_hnsw = clipv0_hnsw\n",
    "app.state.FEEDBACK_STORE: Dict[str, Any] = {}\n",
    "app.state.TEMP_FEEDBACK_STORE: Dict[str, Any] = {}\n",
    "\n",
    "# Include routers\n",
    "from routers.home_router import router as home_router\n",
    "from routers.update_results_router import router as update_results_router\n",
    "from routers.data_router import router as data_router\n",
    "from routers.search_router import router as search_router\n",
    "from routers.feedback_router import router as feedback_router\n",
    "from routers.process_query_router import router as process_query_router\n",
    "\n",
    "app.include_router(home_router)\n",
    "app.include_router(update_results_router)\n",
    "app.include_router(data_router)\n",
    "app.include_router(search_router)\n",
    "app.include_router(feedback_router)\n",
    "app.include_router(process_query_router)\n",
    "\n",
    "# Mount the content directory to serve static files\n",
    "app.mount('/static/style',\n",
    "          StaticFiles(directory=os.path.join(os.getcwd(), 'static/style')),\n",
    "          name='style')\n",
    "app.mount('/static/script',\n",
    "          StaticFiles(directory=os.path.join(os.getcwd(), 'static/script')),\n",
    "          name='script')\n",
    "app.mount('/static/images/key_frame_folder_reduced',\n",
    "          StaticFiles(directory=os.path.join(os.getcwd(), 'static/images/key_frame_folder_reduced')),\n",
    "          name='key_frame_folder_reduced')"
   ]
  },
  {
   "cell_type": "code",
   "execution_count": null,
   "metadata": {
    "vscode": {
     "languageId": "plaintext"
    }
   },
   "outputs": [],
   "source": [
    "#Run the APP on Colab Notebook\n",
    "from pyngrok import ngrok\n",
    "!ngrok authtoken 'Add your ngrok authentication'\n",
    "import nest_asyncio\n",
    "import uvicorn\n",
    "\n",
    "# Create tunnel\n",
    "public_url = ngrok.connect(8000)\n",
    "# Allow for asyncio to work within the Jupyter notebook cell\n",
    "nest_asyncio.apply()\n",
    "# Run the FastAPI app using uvicorn\n",
    "print(f'PLEAS CLICK THIS URL {public_url} TO ACCESS THE APP!!!')\n",
    "uvicorn.run(app)"
   ]
  },
  {
   "cell_type": "code",
   "execution_count": null,
   "metadata": {
    "vscode": {
     "languageId": "plaintext"
    }
   },
   "outputs": [],
   "source": [
    "# Kill tunnel\n",
    "ngrok.disconnect(public_url=public_url)"
   ]
  }
 ],
 "metadata": {
  "language_info": {
   "name": "python"
  }
 },
 "nbformat": 4,
 "nbformat_minor": 2
}
